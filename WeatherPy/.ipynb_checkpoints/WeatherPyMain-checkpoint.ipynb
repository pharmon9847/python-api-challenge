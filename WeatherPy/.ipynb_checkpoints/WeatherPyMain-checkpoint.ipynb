{
 "cells": [
  {
   "cell_type": "code",
   "execution_count": 68,
   "metadata": {},
   "outputs": [],
   "source": [
    "# Dependencies and Setup\n",
    "import matplotlib.pyplot as plt\n",
    "import pandas as pd\n",
    "import numpy as np\n",
    "import requests\n",
    "import time\n",
    "import json\n",
    "import pyowm\n",
    "from scipy.stats import linregress\n",
    "\n",
    "# Import API key\n",
    "api_key = \"e516714d7f79e55d6dde2510278cb958\"\n",
    "temp_units = \"imperial\"\n",
    "\n",
    "# Incorporated citipy to determine city based on latitude and longitude\n",
    "from citipy import citipy\n",
    "\n",
    "# Output File (CSV)\n",
    "output_data_file = \"Output/weather_df.csv\"\n",
    "\n",
    "# Range of latitudes and longitudes\n",
    "lat_range = (-90, 90)\n",
    "lng_range = (-180, 180)\n",
    "\n",
    "# define url\n",
    "query_url = f\"http://api.openweathermap.org/data/2.5/weather?appid={api_key}&units={temp_units}&q=\"\n",
    "\n",
    "# define count of pass throughs\n",
    "count_one = 0\n",
    "set_one = 1"
   ]
  },
  {
   "cell_type": "code",
   "execution_count": 69,
   "metadata": {},
   "outputs": [
    {
     "data": {
      "text/plain": [
       "619"
      ]
     },
     "execution_count": 69,
     "metadata": {},
     "output_type": "execute_result"
    }
   ],
   "source": [
    "# List for holding lat_lngs and cities\n",
    "lat_lngs = []\n",
    "cities = []\n",
    "\n",
    "# Create a set of random lat and lng combinations\n",
    "lats = np.random.uniform(low=-90.000, high=90.000, size=1500)\n",
    "lngs = np.random.uniform(low=-180.000, high=180.000, size=1500)\n",
    "lat_lngs = zip(lats, lngs)\n",
    "\n",
    "# Identify nearest city for each lat, lng combination\n",
    "for lat_lng in lat_lngs:\n",
    "    city = citipy.nearest_city(lat_lng[0], lat_lng[1]).city_name\n",
    "    \n",
    "# If the city is unique, then add it to a our cities list\n",
    "    if city not in cities:\n",
    "        cities.append(city)\n",
    "\n",
    "# Print the city count to confirm sufficient count\n",
    "len(cities)"
   ]
  },
  {
   "cell_type": "code",
   "execution_count": null,
   "metadata": {},
   "outputs": [
    {
     "name": "stdout",
     "output_type": "stream",
     "text": [
      "Processing Record 1 of Set 1 | auki\n",
      "Processing Record 2 of Set 1 | carnarvon\n",
      "Processing Record 3 of Set 1 | port blair\n",
      "City not found. Skipping...\n",
      "Processing Record 4 of Set 1 | ushuaia\n",
      "City not found. Skipping...\n",
      "City not found. Skipping...\n",
      "Processing Record 5 of Set 1 | cape town\n",
      "Processing Record 6 of Set 1 | yulara\n",
      "Processing Record 7 of Set 1 | kapaa\n",
      "Processing Record 8 of Set 1 | east london\n",
      "Processing Record 9 of Set 1 | vaini\n",
      "Processing Record 10 of Set 1 | qaanaaq\n",
      "Processing Record 11 of Set 1 | katsuura\n",
      "Processing Record 12 of Set 1 | arraial do cabo\n",
      "Processing Record 13 of Set 1 | bethel\n",
      "Processing Record 14 of Set 1 | ponta delgada\n",
      "Processing Record 15 of Set 1 | georgetown\n",
      "Processing Record 16 of Set 1 | daram\n",
      "Processing Record 17 of Set 1 | salalah\n",
      "Processing Record 18 of Set 1 | plettenberg bay\n",
      "Processing Record 19 of Set 1 | kodiak\n",
      "Processing Record 20 of Set 1 | tasiilaq\n",
      "Processing Record 21 of Set 1 | busselton\n",
      "City not found. Skipping...\n",
      "Processing Record 22 of Set 1 | santa isabel do rio negro\n",
      "Processing Record 23 of Set 1 | mataura\n",
      "Processing Record 24 of Set 1 | punta arenas\n",
      "City not found. Skipping...\n",
      "Processing Record 25 of Set 1 | binga\n",
      "Processing Record 26 of Set 1 | saint-philippe\n",
      "City not found. Skipping...\n",
      "Processing Record 27 of Set 1 | rikitea\n",
      "Processing Record 28 of Set 1 | sorong\n",
      "Processing Record 29 of Set 1 | rocha\n",
      "Processing Record 30 of Set 1 | fort nelson\n",
      "Processing Record 31 of Set 1 | butaritari\n",
      "Processing Record 32 of Set 1 | albany\n",
      "Processing Record 33 of Set 1 | richards bay\n",
      "Processing Record 34 of Set 1 | ribeira grande\n",
      "Processing Record 35 of Set 1 | cidreira\n",
      "Processing Record 36 of Set 1 | yellowknife\n",
      "Processing Record 37 of Set 1 | tiksi\n",
      "Processing Record 38 of Set 1 | iqaluit\n",
      "Processing Record 39 of Set 1 | atuona\n",
      "Processing Record 40 of Set 1 | jamestown\n",
      "Processing Record 41 of Set 1 | lovozero\n",
      "Processing Record 42 of Set 1 | ayr\n",
      "Processing Record 43 of Set 1 | canutama\n",
      "City not found. Skipping...\n",
      "Processing Record 44 of Set 1 | beringovskiy\n",
      "Processing Record 45 of Set 1 | dikson\n",
      "Processing Record 46 of Set 1 | saint-pierre\n",
      "Processing Record 47 of Set 1 | geraldton\n",
      "Processing Record 48 of Set 1 | bredasdorp\n",
      "Processing Record 49 of Set 1 | hermanus\n",
      "Processing Record 1 of Set 2 | saldanha\n",
      "Processing Record 2 of Set 2 | hithadhoo\n",
      "Processing Record 3 of Set 2 | san cristobal\n",
      "Processing Record 4 of Set 2 | cherskiy\n",
      "City not found. Skipping...\n",
      "Processing Record 5 of Set 2 | bluff\n",
      "Processing Record 6 of Set 2 | chitral\n",
      "Processing Record 7 of Set 2 | samarai\n",
      "Processing Record 8 of Set 2 | salisbury\n",
      "Processing Record 9 of Set 2 | nelson bay\n",
      "Processing Record 10 of Set 2 | deputatskiy\n",
      "Processing Record 11 of Set 2 | aguimes\n",
      "Processing Record 12 of Set 2 | avarua\n",
      "Processing Record 13 of Set 2 | roald\n",
      "City not found. Skipping...\n",
      "Processing Record 14 of Set 2 | laredo\n",
      "Processing Record 15 of Set 2 | makakilo city\n",
      "Processing Record 16 of Set 2 | clyde river\n",
      "Processing Record 17 of Set 2 | constitucion\n",
      "Processing Record 18 of Set 2 | nikolskoye\n",
      "City not found. Skipping...\n",
      "Processing Record 19 of Set 2 | beboto\n",
      "Processing Record 20 of Set 2 | itacoatiara\n",
      "Processing Record 21 of Set 2 | axim\n",
      "Processing Record 22 of Set 2 | tulle\n",
      "Processing Record 23 of Set 2 | victoria\n",
      "City not found. Skipping...\n",
      "City not found. Skipping...\n",
      "Processing Record 24 of Set 2 | yazd\n",
      "Processing Record 25 of Set 2 | port alfred\n",
      "Processing Record 26 of Set 2 | oyem\n",
      "Processing Record 27 of Set 2 | kilindoni\n",
      "Processing Record 28 of Set 2 | norman wells\n",
      "Processing Record 29 of Set 2 | nome\n",
      "Processing Record 30 of Set 2 | tjome\n",
      "Processing Record 31 of Set 2 | hofn\n",
      "Processing Record 32 of Set 2 | carballo\n",
      "Processing Record 33 of Set 2 | aquitania\n",
      "Processing Record 34 of Set 2 | mangaluru\n",
      "Processing Record 35 of Set 2 | maravilha\n",
      "Processing Record 36 of Set 2 | faya\n",
      "Processing Record 37 of Set 2 | puerto ayora\n",
      "City not found. Skipping...\n",
      "Processing Record 38 of Set 2 | mugumu\n",
      "City not found. Skipping...\n",
      "Processing Record 39 of Set 2 | tuktoyaktuk\n",
      "Processing Record 40 of Set 2 | mar del plata\n",
      "Processing Record 41 of Set 2 | cherepovets\n",
      "Processing Record 42 of Set 2 | longmont\n",
      "City not found. Skipping...\n",
      "Processing Record 43 of Set 2 | grand river south east\n",
      "Processing Record 44 of Set 2 | chumikan\n",
      "Processing Record 45 of Set 2 | mehran\n",
      "Processing Record 46 of Set 2 | grand gaube\n",
      "Processing Record 47 of Set 2 | margate\n",
      "Processing Record 48 of Set 2 | grindavik\n",
      "Processing Record 49 of Set 2 | lebu\n",
      "Processing Record 1 of Set 3 | nanortalik\n",
      "Processing Record 2 of Set 3 | bonfim\n",
      "City not found. Skipping...\n",
      "Processing Record 3 of Set 3 | yar-sale\n",
      "Processing Record 4 of Set 3 | mporokoso\n",
      "Processing Record 5 of Set 3 | chernyshevskiy\n",
      "Processing Record 6 of Set 3 | hoima\n",
      "Processing Record 7 of Set 3 | port elizabeth\n",
      "Processing Record 8 of Set 3 | veraval\n",
      "Processing Record 9 of Set 3 | kavaratti\n",
      "Processing Record 10 of Set 3 | hasaki\n",
      "City not found. Skipping...\n",
      "Processing Record 11 of Set 3 | tecoanapa\n",
      "Processing Record 12 of Set 3 | hobart\n",
      "Processing Record 13 of Set 3 | tazovskiy\n",
      "Processing Record 14 of Set 3 | estevan\n",
      "Processing Record 15 of Set 3 | lesogorsk\n",
      "Processing Record 16 of Set 3 | marzuq\n",
      "Processing Record 17 of Set 3 | padang\n",
      "Processing Record 18 of Set 3 | esperance\n",
      "Processing Record 19 of Set 3 | naze\n",
      "Processing Record 20 of Set 3 | khatanga\n",
      "Processing Record 21 of Set 3 | rawson\n",
      "Processing Record 22 of Set 3 | tuatapere\n",
      "Processing Record 23 of Set 3 | alice springs\n",
      "City not found. Skipping...\n",
      "Processing Record 24 of Set 3 | sao joao da barra\n",
      "Processing Record 25 of Set 3 | itaituba\n",
      "City not found. Skipping...\n",
      "Processing Record 26 of Set 3 | ughelli\n",
      "Processing Record 27 of Set 3 | vrangel\n",
      "Processing Record 28 of Set 3 | aberdeen\n",
      "Processing Record 29 of Set 3 | arlit\n",
      "Processing Record 30 of Set 3 | awjilah\n",
      "Processing Record 31 of Set 3 | provideniya\n",
      "Processing Record 32 of Set 3 | upernavik\n",
      "City not found. Skipping...\n",
      "City not found. Skipping...\n",
      "Processing Record 33 of Set 3 | saskylakh\n",
      "Processing Record 34 of Set 3 | hilo\n",
      "Processing Record 35 of Set 3 | nishihara\n",
      "City not found. Skipping...\n",
      "Processing Record 36 of Set 3 | barrow\n",
      "Processing Record 37 of Set 3 | mugur-aksy\n",
      "Processing Record 38 of Set 3 | new norfolk\n",
      "City not found. Skipping...\n",
      "Processing Record 39 of Set 3 | dingle\n",
      "Processing Record 40 of Set 3 | morehead\n",
      "City not found. Skipping...\n",
      "Processing Record 41 of Set 3 | sisimiut\n",
      "Processing Record 42 of Set 3 | yurla\n",
      "Processing Record 43 of Set 3 | rangpur\n",
      "Processing Record 44 of Set 3 | dahod\n",
      "City not found. Skipping...\n",
      "Processing Record 45 of Set 3 | kyabe\n",
      "Processing Record 46 of Set 3 | atambua\n",
      "Processing Record 47 of Set 3 | pisco\n",
      "Processing Record 48 of Set 3 | severo-kurilsk\n",
      "Processing Record 49 of Set 3 | boyolangu\n",
      "Processing Record 1 of Set 4 | kavieng\n",
      "Processing Record 2 of Set 4 | castro\n",
      "Processing Record 3 of Set 4 | ponta do sol\n",
      "Processing Record 4 of Set 4 | druzhba\n",
      "Processing Record 5 of Set 4 | bur gabo\n",
      "Processing Record 6 of Set 4 | pacifica\n",
      "Processing Record 7 of Set 4 | smestad\n",
      "Processing Record 8 of Set 4 | adrar\n",
      "Processing Record 9 of Set 4 | parintins\n",
      "City not found. Skipping...\n",
      "Processing Record 10 of Set 4 | talnakh\n",
      "Processing Record 11 of Set 4 | tura\n",
      "Processing Record 12 of Set 4 | pevek\n",
      "Processing Record 13 of Set 4 | roma\n",
      "Processing Record 14 of Set 4 | prainha\n",
      "Processing Record 15 of Set 4 | bilibino\n",
      "Processing Record 16 of Set 4 | chapais\n",
      "City not found. Skipping...\n",
      "Processing Record 17 of Set 4 | tromso\n",
      "Processing Record 18 of Set 4 | texistepeque\n",
      "Processing Record 19 of Set 4 | glendive\n",
      "Processing Record 20 of Set 4 | college\n",
      "Processing Record 21 of Set 4 | menomonie\n",
      "City not found. Skipping...\n",
      "Processing Record 22 of Set 4 | camargo\n",
      "Processing Record 23 of Set 4 | karoi\n",
      "Processing Record 24 of Set 4 | kalmunai\n",
      "City not found. Skipping...\n",
      "Processing Record 25 of Set 4 | paamiut\n",
      "Processing Record 26 of Set 4 | chuy\n",
      "Processing Record 27 of Set 4 | chokurdakh\n",
      "Processing Record 28 of Set 4 | husavik\n",
      "Processing Record 29 of Set 4 | challakere\n",
      "Processing Record 30 of Set 4 | nokaneng\n",
      "Processing Record 31 of Set 4 | baijiantan\n",
      "City not found. Skipping...\n",
      "Processing Record 32 of Set 4 | bato\n",
      "Processing Record 33 of Set 4 | araxa\n",
      "Processing Record 34 of Set 4 | ahuimanu\n"
     ]
    },
    {
     "name": "stdout",
     "output_type": "stream",
     "text": [
      "Processing Record 35 of Set 4 | lorengau\n",
      "Processing Record 36 of Set 4 | petropavlovsk-kamchatskiy\n",
      "Processing Record 37 of Set 4 | inyonga\n",
      "Processing Record 38 of Set 4 | prince george\n",
      "Processing Record 39 of Set 4 | kasulu\n",
      "Processing Record 40 of Set 4 | guerrero negro\n",
      "Processing Record 41 of Set 4 | shahpura\n",
      "Processing Record 42 of Set 4 | nhamunda\n",
      "Processing Record 43 of Set 4 | maromitsa\n",
      "Processing Record 44 of Set 4 | naantali\n",
      "Processing Record 45 of Set 4 | staroye drozhzhanoye\n",
      "Processing Record 46 of Set 4 | mangai\n",
      "City not found. Skipping...\n",
      "Processing Record 47 of Set 4 | killybegs\n",
      "Processing Record 48 of Set 4 | buenos aires\n",
      "Processing Record 49 of Set 4 | mana\n",
      "Processing Record 1 of Set 5 | nagua\n",
      "Processing Record 2 of Set 5 | almaznyy\n",
      "Processing Record 3 of Set 5 | agirish\n",
      "Processing Record 4 of Set 5 | belyy yar\n",
      "Processing Record 5 of Set 5 | kodinsk\n",
      "Processing Record 6 of Set 5 | adeje\n",
      "Processing Record 7 of Set 5 | santa maria\n"
     ]
    }
   ],
   "source": [
    "# set lists for the dataframe\n",
    "city_two = []\n",
    "cloudinesses = []\n",
    "dates = []\n",
    "humidities = []\n",
    "lats = []\n",
    "lngs = []\n",
    "max_temps = []\n",
    "wind_speeds = []\n",
    "countries = []\n",
    "\n",
    "# set initial count quantities for organization\n",
    "count_one = 0\n",
    "set_one = 1\n",
    "\n",
    "# loops for creating dataframe columns\n",
    "for city in cities:\n",
    "    try:\n",
    "        response = requests.get(query_url + city.replace(\" \",\"&\")).json()\n",
    "        cloudinesses.append(response['clouds']['all'])\n",
    "        countries.append(response['sys']['country'])\n",
    "        dates.append(response['dt'])\n",
    "        humidities.append(response['main']['humidity'])\n",
    "        lats.append(response['coord']['lat'])\n",
    "        lngs.append(response['coord']['lon'])\n",
    "        max_temps.append(response['main']['temp_max'])\n",
    "        wind_speeds.append(response['wind']['speed'])\n",
    "        if count_one > 48:\n",
    "            count_one = 1\n",
    "            set_one += 1\n",
    "            city_two.append(city)\n",
    "        else:\n",
    "            count_one += 1\n",
    "            city_two.append(city)\n",
    "        print(f\"Processing Record {count_one} of Set {set_one} | {city}\")\n",
    "    except Exception:\n",
    "        print(\"City not found. Skipping...\")\n",
    "print(\"------------------------------\\nData Retrieval Complete\\n------------------------------\")"
   ]
  },
  {
   "cell_type": "code",
   "execution_count": null,
   "metadata": {},
   "outputs": [],
   "source": [
    " Convert Raw Data to DataFrame\n",
    "\n",
    "Export the city data into a .csv.\n",
    "Display the DataFrame"
   ]
  },
  {
   "cell_type": "code",
   "execution_count": null,
   "metadata": {},
   "outputs": [],
   "source": [
    " City          535\n",
    "Cloudiness    535\n",
    "Country       535\n",
    "Date          535\n",
    "Humidity      535\n",
    "Lat           535\n",
    "Lng           535\n",
    "Max Temp      535\n",
    "Wind Speed    535\n",
    "dtype: int64"
   ]
  },
  {
   "cell_type": "code",
   "execution_count": null,
   "metadata": {},
   "outputs": [],
   "source": [
    "Out [5]:  \n",
    "\n",
    "\n",
    "  \n",
    "    \n",
    "      \n",
    "      City\n",
    "      Cloudiness\n",
    "      Country\n",
    "      Date\n",
    "      Humidity\n",
    "      Lat\n",
    "      Lng\n",
    "      Max Temp\n",
    "      Wind Speed\n",
    "    \n",
    "  \n",
    "  \n",
    "    \n",
    "      0\n",
    "      severo-kurilsk\n",
    "      92\n",
    "      RU\n",
    "      1534988024\n",
    "      93\n",
    "      50.68\n",
    "      156.12\n",
    "      54.27\n",
    "      2.73\n",
    "    \n",
    "    \n",
    "      1\n",
    "      darhan\n",
    "      8\n",
    "      MN\n",
    "      1534988024\n",
    "      71\n",
    "      49.49\n",
    "      105.92\n",
    "      72.81\n",
    "      8.55\n",
    "    \n",
    "    \n",
    "      2\n",
    "      tarakan\n",
    "      48\n",
    "      ID\n",
    "      1534988024\n",
    "      100\n",
    "      3.30\n",
    "      117.63\n",
    "      80.10\n",
    "      4.41\n",
    "    \n",
    "    \n",
    "      3\n",
    "      komsomolskiy\n",
    "      48\n",
    "      RU\n",
    "      1534987754\n",
    "      72\n",
    "      67.55\n",
    "      63.78\n",
    "      54.46\n",
    "      15.46\n",
    "    \n",
    "    \n",
    "      4\n",
    "      souillac\n",
    "      0\n",
    "      FR\n",
    "      1534986000\n",
    "      73\n",
    "      45.60\n",
    "      -0.60\n",
    "      71.60\n",
    "      3.36"
   ]
  },
  {
   "cell_type": "code",
   "execution_count": null,
   "metadata": {},
   "outputs": [],
   "source": [
    " Plotting the Data\n",
    "\n",
    "Use proper labeling of the plots using plot titles (including date of analysis) and axes labels.\n",
    "Save the plotted figures as .pngs."
   ]
  },
  {
   "cell_type": "code",
   "execution_count": null,
   "metadata": {},
   "outputs": [],
   "source": [
    " Latitude vs. Temperature Plot"
   ]
  },
  {
   "cell_type": "code",
   "execution_count": null,
   "metadata": {},
   "outputs": [],
   "source": [
    " Latitude vs. Humidity Plot"
   ]
  },
  {
   "cell_type": "code",
   "execution_count": null,
   "metadata": {},
   "outputs": [],
   "source": [
    " Latitude vs. Cloudiness Plot"
   ]
  },
  {
   "cell_type": "code",
   "execution_count": null,
   "metadata": {},
   "outputs": [],
   "source": [
    " Latitude vs. Wind Speed Plot"
   ]
  },
  {
   "cell_type": "code",
   "execution_count": null,
   "metadata": {},
   "outputs": [],
   "source": [
    " Linear Regression"
   ]
  },
  {
   "cell_type": "code",
   "execution_count": null,
   "metadata": {},
   "outputs": [],
   "source": [
    " # OPTIONAL: Create a function to create Linear Regression plots\n",
    " # Create Northern and Southern Hemisphere DataFrames"
   ]
  },
  {
   "cell_type": "code",
   "execution_count": null,
   "metadata": {},
   "outputs": [],
   "source": [
    " Northern Hemisphere - Max Temp vs. Latitude Linear Regression"
   ]
  },
  {
   "cell_type": "code",
   "execution_count": null,
   "metadata": {},
   "outputs": [],
   "source": [
    "The r-squared is: -0.8151657406810827"
   ]
  },
  {
   "cell_type": "code",
   "execution_count": null,
   "metadata": {},
   "outputs": [],
   "source": [
    " Southern Hemisphere - Max Temp vs. Latitude Linear Regression"
   ]
  },
  {
   "cell_type": "code",
   "execution_count": null,
   "metadata": {},
   "outputs": [],
   "source": [
    " The r-squared is: 0.760263355051646"
   ]
  },
  {
   "cell_type": "code",
   "execution_count": null,
   "metadata": {},
   "outputs": [],
   "source": [
    " Northern Hemisphere - Humidity (%) vs. Latitude Linear Regression"
   ]
  },
  {
   "cell_type": "code",
   "execution_count": null,
   "metadata": {},
   "outputs": [],
   "source": [
    "The r-squared is: 0.10358336015746494"
   ]
  },
  {
   "cell_type": "code",
   "execution_count": null,
   "metadata": {},
   "outputs": [],
   "source": [
    " Southern Hemisphere - Humidity (%) vs. Latitude Linear Regression"
   ]
  },
  {
   "cell_type": "code",
   "execution_count": null,
   "metadata": {},
   "outputs": [],
   "source": [
    " The r-squared is: 0.14689473425583055"
   ]
  },
  {
   "cell_type": "code",
   "execution_count": null,
   "metadata": {},
   "outputs": [],
   "source": [
    " Northern Hemisphere - Cloudiness (%) vs. Latitude Linear Regression"
   ]
  },
  {
   "cell_type": "code",
   "execution_count": null,
   "metadata": {},
   "outputs": [],
   "source": [
    "The r-squared is: -0.08733547918934018"
   ]
  },
  {
   "cell_type": "code",
   "execution_count": null,
   "metadata": {},
   "outputs": [],
   "source": [
    " Southern Hemisphere - Cloudiness (%) vs. Latitude Linear Regression"
   ]
  },
  {
   "cell_type": "code",
   "execution_count": null,
   "metadata": {},
   "outputs": [],
   "source": [
    " The r-squared is: 0.21881426893991618"
   ]
  },
  {
   "cell_type": "code",
   "execution_count": null,
   "metadata": {},
   "outputs": [],
   "source": [
    " Northern Hemisphere - Wind Speed (mph) vs. Latitude Linear Regression"
   ]
  },
  {
   "cell_type": "code",
   "execution_count": null,
   "metadata": {},
   "outputs": [],
   "source": [
    "The r-squared is: 0.1071382774388479"
   ]
  },
  {
   "cell_type": "code",
   "execution_count": null,
   "metadata": {},
   "outputs": [],
   "source": [
    " Southern Hemisphere - Wind Speed (mph) vs. Latitude Linear Regression"
   ]
  },
  {
   "cell_type": "code",
   "execution_count": null,
   "metadata": {},
   "outputs": [],
   "source": [
    "The r-squared is: -0.322483077139538"
   ]
  }
 ],
 "metadata": {
  "kernelspec": {
   "display_name": "Python 3",
   "language": "python",
   "name": "python3"
  },
  "language_info": {
   "codemirror_mode": {
    "name": "ipython",
    "version": 3
   },
   "file_extension": ".py",
   "mimetype": "text/x-python",
   "name": "python",
   "nbconvert_exporter": "python",
   "pygments_lexer": "ipython3",
   "version": "3.6.9"
  }
 },
 "nbformat": 4,
 "nbformat_minor": 2
}
