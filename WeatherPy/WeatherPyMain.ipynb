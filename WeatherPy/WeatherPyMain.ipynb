{
 "cells": [
  {
   "cell_type": "code",
   "execution_count": null,
   "metadata": {},
   "outputs": [],
   "source": [
    " # Dependencies and Setup\n",
    "import matplotlib.pyplot as plt\n",
    "import pandas as pd\n",
    "import numpy as np\n",
    "import requests\n",
    "import time\n",
    "from scipy.stats import linregress\n",
    "\n",
    "# Import API key\n",
    "from api_keys import weather_api_key\n",
    "\n",
    "# Incorporated citipy to determine city based on latitude and longitude\n",
    "from citipy import citipy\n",
    "\n",
    "# Output File (CSV)\n",
    "output_data_file = \"output_data/cities.csv\"\n",
    "\n",
    "# Range of latitudes and longitudes\n",
    "lat_range = (-90, 90)\n",
    "lng_range = (-180, 180)"
   ]
  },
  {
   "cell_type": "markdown",
   "metadata": {},
   "source": [
    "GENERATE CITIES LIST"
   ]
  },
  {
   "cell_type": "code",
   "execution_count": null,
   "metadata": {},
   "outputs": [],
   "source": [
    "# List for holding lat_lngs and cities\n",
    "lat_lngs = []\n",
    "cities = []\n",
    "\n",
    "# Create a set of random lat and lng combinations\n",
    "lats = np.random.uniform(low=-90.000, high=90.000, size=1500)\n",
    "lngs = np.random.uniform(low=-180.000, high=180.000, size=1500)\n",
    "lat_lngs = zip(lats, lngs)\n",
    "\n",
    "# Identify nearest city for each lat, lng combination\n",
    "for lat_lng in lat_lngs:\n",
    "    city = citipy.nearest_city(lat_lng[0], lat_lng[1]).city_name\n",
    "    \n",
    "    # If the city is unique, then add it to a our cities list\n",
    "    if city not in cities:\n",
    "        cities.append(city)\n",
    "\n",
    "# Print the city count to confirm sufficient count\n",
    "len(cities)"
   ]
  },
  {
   "cell_type": "code",
   "execution_count": null,
   "metadata": {},
   "outputs": [],
   "source": [
    " Perform API Calls\n",
    "\n",
    "Perform a weather check on each city using a series of successive API calls.\n",
    "Include a print log of each city as it'sbeing processed (with the city number and city name)."
   ]
  },
  {
   "cell_type": "code",
   "execution_count": null,
   "metadata": {},
   "outputs": [],
   "source": [
    "Beginning Data Retrieval     \n",
    "-----------------------------\n",
    "Processing Record 1 of Set 1 | severo-kurilsk\n",
    "Processing Record 2 of Set 1 | darhan\n",
    "Processing Record 3 of Set 1 | tarakan\n",
    "Processing Record 4 of Set 1 | komsomolskiy\n",
    "Processing Record 5 of Set 1 | souillac\n",
    "Processing Record 6 of Set 1 | jiuquan\n",
    "Processing Record 7 of Set 1 | sesheke\n",
    "Processing Record 8 of Set 1 | punta arenas\n",
    "Processing Record 9 of Set 1 | clarence town\n",
    "Processing Record 10 of Set 1 | mataura\n",
    "Processing Record 11 of Set 1 | magadan\n",
    "Processing Record 12 of Set 1 | salym\n",
    "Processing Record 13 of Set 1 | carnarvon\n",
    "Processing Record 14 of Set 1 | puerto ayora\n",
    "Processing Record 15 of Set 1 | arys\n",
    "Processing Record 16 of Set 1 | prince rupert\n",
    "Processing Record 17 of Set 1 | albany\n",
    "Processing Record 18 of Set 1 | dikson\n",
    "Processing Record 19 of Set 1 | kapaa\n",
    "Processing Record 20 of Set 1 | rikitea\n",
    "Processing Record 21 of Set 1 | rio gallegos\n",
    "Processing Record 22 of Set 1 | kropotkin\n",
    "Processing Record 23 of Set 1 | butaritari\n",
    "Processing Record 24 of Set 1 | dahra\n",
    "Processing Record 25 of Set 1 | khatanga\n",
    "Processing Record 26 of Set 1 | stephenville\n",
    "Processing Record 27 of Set 1 | hobart\n",
    "Processing Record 28 of Set 1 | north bend\n",
    "Processing Record 29 of Set 1 | ponta do sol\n",
    "Processing Record 30 of Set 1 | faya\n",
    "Processing Record 31 of Set 1 | vryburg\n",
    "Processing Record 32 of Set 1 | lolua\n",
    "City not found. Skipping..."
   ]
  },
  {
   "cell_type": "code",
   "execution_count": null,
   "metadata": {},
   "outputs": [],
   "source": [
    " Convert Raw Data to DataFrame\n",
    "\n",
    "Export the city data into a .csv.\n",
    "Display the DataFrame"
   ]
  },
  {
   "cell_type": "code",
   "execution_count": null,
   "metadata": {},
   "outputs": [],
   "source": [
    " City          535\n",
    "Cloudiness    535\n",
    "Country       535\n",
    "Date          535\n",
    "Humidity      535\n",
    "Lat           535\n",
    "Lng           535\n",
    "Max Temp      535\n",
    "Wind Speed    535\n",
    "dtype: int64"
   ]
  },
  {
   "cell_type": "code",
   "execution_count": null,
   "metadata": {},
   "outputs": [],
   "source": [
    "Out [5]:  \n",
    "\n",
    "\n",
    "  \n",
    "    \n",
    "      \n",
    "      City\n",
    "      Cloudiness\n",
    "      Country\n",
    "      Date\n",
    "      Humidity\n",
    "      Lat\n",
    "      Lng\n",
    "      Max Temp\n",
    "      Wind Speed\n",
    "    \n",
    "  \n",
    "  \n",
    "    \n",
    "      0\n",
    "      severo-kurilsk\n",
    "      92\n",
    "      RU\n",
    "      1534988024\n",
    "      93\n",
    "      50.68\n",
    "      156.12\n",
    "      54.27\n",
    "      2.73\n",
    "    \n",
    "    \n",
    "      1\n",
    "      darhan\n",
    "      8\n",
    "      MN\n",
    "      1534988024\n",
    "      71\n",
    "      49.49\n",
    "      105.92\n",
    "      72.81\n",
    "      8.55\n",
    "    \n",
    "    \n",
    "      2\n",
    "      tarakan\n",
    "      48\n",
    "      ID\n",
    "      1534988024\n",
    "      100\n",
    "      3.30\n",
    "      117.63\n",
    "      80.10\n",
    "      4.41\n",
    "    \n",
    "    \n",
    "      3\n",
    "      komsomolskiy\n",
    "      48\n",
    "      RU\n",
    "      1534987754\n",
    "      72\n",
    "      67.55\n",
    "      63.78\n",
    "      54.46\n",
    "      15.46\n",
    "    \n",
    "    \n",
    "      4\n",
    "      souillac\n",
    "      0\n",
    "      FR\n",
    "      1534986000\n",
    "      73\n",
    "      45.60\n",
    "      -0.60\n",
    "      71.60\n",
    "      3.36"
   ]
  },
  {
   "cell_type": "code",
   "execution_count": null,
   "metadata": {},
   "outputs": [],
   "source": [
    " Plotting the Data\n",
    "\n",
    "Use proper labeling of the plots using plot titles (including date of analysis) and axes labels.\n",
    "Save the plotted figures as .pngs."
   ]
  },
  {
   "cell_type": "code",
   "execution_count": null,
   "metadata": {},
   "outputs": [],
   "source": [
    " Latitude vs. Temperature Plot"
   ]
  },
  {
   "cell_type": "code",
   "execution_count": null,
   "metadata": {},
   "outputs": [],
   "source": [
    " Latitude vs. Humidity Plot"
   ]
  },
  {
   "cell_type": "code",
   "execution_count": null,
   "metadata": {},
   "outputs": [],
   "source": [
    " Latitude vs. Cloudiness Plot"
   ]
  },
  {
   "cell_type": "code",
   "execution_count": null,
   "metadata": {},
   "outputs": [],
   "source": [
    " Latitude vs. Wind Speed Plot"
   ]
  },
  {
   "cell_type": "code",
   "execution_count": null,
   "metadata": {},
   "outputs": [],
   "source": [
    " Linear Regression"
   ]
  },
  {
   "cell_type": "code",
   "execution_count": null,
   "metadata": {},
   "outputs": [],
   "source": [
    " # OPTIONAL: Create a function to create Linear Regression plots\n",
    " # Create Northern and Southern Hemisphere DataFrames"
   ]
  },
  {
   "cell_type": "code",
   "execution_count": null,
   "metadata": {},
   "outputs": [],
   "source": [
    " Northern Hemisphere - Max Temp vs. Latitude Linear Regression"
   ]
  },
  {
   "cell_type": "code",
   "execution_count": null,
   "metadata": {},
   "outputs": [],
   "source": [
    "The r-squared is: -0.8151657406810827"
   ]
  },
  {
   "cell_type": "code",
   "execution_count": null,
   "metadata": {},
   "outputs": [],
   "source": [
    " Southern Hemisphere - Max Temp vs. Latitude Linear Regression"
   ]
  },
  {
   "cell_type": "code",
   "execution_count": null,
   "metadata": {},
   "outputs": [],
   "source": [
    " The r-squared is: 0.760263355051646"
   ]
  },
  {
   "cell_type": "code",
   "execution_count": null,
   "metadata": {},
   "outputs": [],
   "source": [
    " Northern Hemisphere - Humidity (%) vs. Latitude Linear Regression"
   ]
  },
  {
   "cell_type": "code",
   "execution_count": null,
   "metadata": {},
   "outputs": [],
   "source": [
    "The r-squared is: 0.10358336015746494"
   ]
  },
  {
   "cell_type": "code",
   "execution_count": null,
   "metadata": {},
   "outputs": [],
   "source": [
    " Southern Hemisphere - Humidity (%) vs. Latitude Linear Regression"
   ]
  },
  {
   "cell_type": "code",
   "execution_count": null,
   "metadata": {},
   "outputs": [],
   "source": [
    " The r-squared is: 0.14689473425583055"
   ]
  },
  {
   "cell_type": "code",
   "execution_count": null,
   "metadata": {},
   "outputs": [],
   "source": [
    " Northern Hemisphere - Cloudiness (%) vs. Latitude Linear Regression"
   ]
  },
  {
   "cell_type": "code",
   "execution_count": null,
   "metadata": {},
   "outputs": [],
   "source": [
    "The r-squared is: -0.08733547918934018"
   ]
  },
  {
   "cell_type": "code",
   "execution_count": null,
   "metadata": {},
   "outputs": [],
   "source": [
    " Southern Hemisphere - Cloudiness (%) vs. Latitude Linear Regression"
   ]
  },
  {
   "cell_type": "code",
   "execution_count": null,
   "metadata": {},
   "outputs": [],
   "source": [
    " The r-squared is: 0.21881426893991618"
   ]
  },
  {
   "cell_type": "code",
   "execution_count": null,
   "metadata": {},
   "outputs": [],
   "source": [
    " Northern Hemisphere - Wind Speed (mph) vs. Latitude Linear Regression"
   ]
  },
  {
   "cell_type": "code",
   "execution_count": null,
   "metadata": {},
   "outputs": [],
   "source": [
    "The r-squared is: 0.1071382774388479"
   ]
  },
  {
   "cell_type": "code",
   "execution_count": null,
   "metadata": {},
   "outputs": [],
   "source": [
    " Southern Hemisphere - Wind Speed (mph) vs. Latitude Linear Regression"
   ]
  },
  {
   "cell_type": "code",
   "execution_count": null,
   "metadata": {},
   "outputs": [],
   "source": [
    "The r-squared is: -0.322483077139538"
   ]
  }
 ],
 "metadata": {
  "kernelspec": {
   "display_name": "Python 3",
   "language": "python",
   "name": "python3"
  },
  "language_info": {
   "codemirror_mode": {
    "name": "ipython",
    "version": 3
   },
   "file_extension": ".py",
   "mimetype": "text/x-python",
   "name": "python",
   "nbconvert_exporter": "python",
   "pygments_lexer": "ipython3",
   "version": "3.6.9"
  }
 },
 "nbformat": 4,
 "nbformat_minor": 2
}
